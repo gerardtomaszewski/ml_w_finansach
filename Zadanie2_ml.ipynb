{
  "nbformat": 4,
  "nbformat_minor": 0,
  "metadata": {
    "colab": {
      "provenance": [],
      "include_colab_link": true
    },
    "kernelspec": {
      "name": "python3",
      "display_name": "Python 3"
    },
    "language_info": {
      "name": "python"
    }
  },
  "cells": [
    {
      "cell_type": "markdown",
      "metadata": {
        "id": "view-in-github",
        "colab_type": "text"
      },
      "source": [
        "<a href=\"https://colab.research.google.com/github/gerardtomaszewski/ml_w_finansach/blob/main/Zadanie2_ml.ipynb\" target=\"_parent\"><img src=\"https://colab.research.google.com/assets/colab-badge.svg\" alt=\"Open In Colab\"/></a>"
      ]
    },
    {
      "cell_type": "code",
      "execution_count": null,
      "metadata": {
        "id": "DhugYDxotgqB"
      },
      "outputs": [],
      "source": [
        "!pip install surprise\n",
        "import numpy as np\n",
        "import pandas as pd\n",
        "import matplotlib.pyplot as plt\n",
        "import seaborn as sns\n",
        "from surprise import KNNWithMeans, SVD\n",
        "from surprise import Dataset, Reader\n",
        "from surprise.model_selection import train_test_split, GridSearchCV, cross_validate\n"
      ]
    },
    {
      "cell_type": "code",
      "source": [
        "ratings = pd.read_csv('https://s3-us-west-2.amazonaws.com/recommender-tutorial/ratings.csv')\n",
        "movies = pd.read_csv('https://s3-us-west-2.amazonaws.com/recommender-tutorial/movies.csv')"
      ],
      "metadata": {
        "id": "TdIVQfWtto3z"
      },
      "execution_count": 58,
      "outputs": []
    },
    {
      "cell_type": "markdown",
      "source": [
        "Zadanie 1.1"
      ],
      "metadata": {
        "id": "Zv9k02u61sEZ"
      }
    },
    {
      "cell_type": "code",
      "source": [
        "n_movies = movies[movies['genres'].str.contains('Sci-Fi')]\n",
        "n_movies = n_movies['movieId'].nunique()\n",
        "print(n_movies)"
      ],
      "metadata": {
        "colab": {
          "base_uri": "https://localhost:8080/"
        },
        "id": "7CyGFh9MEwaM",
        "outputId": "f40f0ba4-f8cd-420a-a6f4-5f313497c55f"
      },
      "execution_count": 5,
      "outputs": [
        {
          "output_type": "stream",
          "name": "stdout",
          "text": [
            "980\n"
          ]
        }
      ]
    },
    {
      "cell_type": "markdown",
      "source": [
        "Zadanie 2.2"
      ],
      "metadata": {
        "id": "-mwX0KrG1vSF"
      }
    },
    {
      "cell_type": "code",
      "source": [
        "df = pd.merge(ratings, movies, on='movieId')\n",
        "filtered_df = df[df['genres'].str.contains('Comedy')]"
      ],
      "metadata": {
        "id": "2Lg4GuxzEAnu"
      },
      "execution_count": 8,
      "outputs": []
    },
    {
      "cell_type": "code",
      "source": [
        "sns.countplot(x=\"rating\", data=filtered_df, palette=\"viridis\", hue='rating', legend=False)\n",
        "plt.title(\"Distribution of movie ratings\", fontsize=14)\n",
        "plt.show()"
      ],
      "metadata": {
        "colab": {
          "base_uri": "https://localhost:8080/",
          "height": 473
        },
        "id": "heNs2Nv3zURL",
        "outputId": "581f410a-299c-47a2-af34-a701a04123b5"
      },
      "execution_count": 9,
      "outputs": [
        {
          "output_type": "display_data",
          "data": {
            "text/plain": [
              "<Figure size 640x480 with 1 Axes>"
            ],
            "image/png": "[encoded data removed]"
          },
          "metadata": {}
        }
      ]
    },
    {
      "cell_type": "code",
      "source": [
        "filtered_df = df[df['genres'].str.contains('Action')]"
      ],
      "metadata": {
        "id": "CtS9ryDtzePt"
      },
      "execution_count": 10,
      "outputs": []
    },
    {
      "cell_type": "code",
      "source": [
        "print(f\"Mean global rating: {round(filtered_df['rating'].mean(),2)}.\")"
      ],
      "metadata": {
        "colab": {
          "base_uri": "https://localhost:8080/"
        },
        "id": "oe5A7V8Hzeu8",
        "outputId": "0330cfa0-311a-4ada-ba3a-3c40d9403642"
      },
      "execution_count": 11,
      "outputs": [
        {
          "output_type": "stream",
          "name": "stdout",
          "text": [
            "Mean global rating: 3.45.\n"
          ]
        }
      ]
    },
    {
      "cell_type": "code",
      "source": [
        "mean_ratings = filtered_df.groupby(['movieId','title'])[['rating']].mean().reset_index()\n",
        "top_ratings = mean_ratings.sort_values(by='rating', ascending=False).head(3)\n",
        "print(top_ratings[['title']])"
      ],
      "metadata": {
        "colab": {
          "base_uri": "https://localhost:8080/"
        },
        "id": "lhRXwGS1zq5V",
        "outputId": "763b0d24-ddc3-4d5c-e656-5a08033d8ec4"
      },
      "execution_count": 16,
      "outputs": [
        {
          "output_type": "stream",
          "name": "stdout",
          "text": [
            "                                                  title\n",
            "1239             Love Exposure (Ai No Mukidashi) (2008)\n",
            "1692                                 Tokyo Tribe (2014)\n",
            "1593  Crippled Avengers (Can que) (Return of the 5 D...\n"
          ]
        }
      ]
    },
    {
      "cell_type": "code",
      "source": [
        "movie_stats = filtered_df.groupby('movieId')[['rating']].agg(['count', 'mean'])\n",
        "movie_stats.columns = movie_stats.columns.droplevel()\n",
        "\n",
        "C = movie_stats['count'].mean()\n",
        "m = movie_stats['mean'].mean()\n",
        "\n",
        "def bayesian_avg(ratings):\n",
        "    bayesian_avg = (C*m+ratings.sum())/(C+ratings.count())\n",
        "    return bayesian_avg\n",
        "\n",
        "bayesian_avg_ratings = ratings.groupby('movieId')['rating'].agg(bayesian_avg).reset_index()\n",
        "bayesian_avg_ratings.columns = ['movieId', 'bayesian_avg']\n",
        "\n",
        "movie_stats = movie_stats.merge(bayesian_avg_ratings, on='movieId')\n",
        "movie_stats = movie_stats.merge(movies[['movieId', 'title']])\n",
        "top_ratings = movie_stats.sort_values('bayesian_avg', ascending=False).head(3)\n",
        "print(top_ratings[['title']])"
      ],
      "metadata": {
        "colab": {
          "base_uri": "https://localhost:8080/"
        },
        "id": "0xuYsdnt2xMT",
        "outputId": "60509c0d-2f7b-42e1-a75f-50a3f58883c8"
      },
      "execution_count": 18,
      "outputs": [
        {
          "output_type": "stream",
          "name": "stdout",
          "text": [
            "                                                 title\n",
            "362                                  Fight Club (1999)\n",
            "36           Star Wars: Episode IV - A New Hope (1977)\n",
            "135  Star Wars: Episode V - The Empire Strikes Back...\n"
          ]
        }
      ]
    },
    {
      "cell_type": "markdown",
      "source": [
        "Zadanie 2"
      ],
      "metadata": {
        "id": "5Oiws1443mcr"
      }
    },
    {
      "cell_type": "code",
      "source": [
        "min_rating = ratings.rating.min()\n",
        "max_rating = ratings.rating.max()\n",
        "\n",
        "reader = Reader(rating_scale=(min_rating, max_rating))\n",
        "data = Dataset.load_from_df(ratings[['userId', 'movieId', 'rating']], reader)\n",
        "\n",
        "algo = KNNWithMeans()\n",
        "\n",
        "cv_KNNWithMeans = cross_validate(algo, data, measures=['RMSE'], cv=5, verbose=True)\n",
        "print(np.mean(cv_KNNWithMeans['test_rmse']))"
      ],
      "metadata": {
        "colab": {
          "base_uri": "https://localhost:8080/"
        },
        "id": "SwBHj4ZMNiuS",
        "outputId": "fd1dd42c-1044-45a6-f086-9d292579bd29"
      },
      "execution_count": 59,
      "outputs": [
        {
          "output_type": "stream",
          "name": "stdout",
          "text": [
            "Computing the msd similarity matrix...\n",
            "Done computing similarity matrix.\n",
            "Computing the msd similarity matrix...\n",
            "Done computing similarity matrix.\n",
            "Computing the msd similarity matrix...\n",
            "Done computing similarity matrix.\n",
            "Computing the msd similarity matrix...\n",
            "Done computing similarity matrix.\n",
            "Computing the msd similarity matrix...\n",
            "Done computing similarity matrix.\n",
            "Evaluating RMSE of algorithm KNNWithMeans on 5 split(s).\n",
            "\n",
            "                  Fold 1  Fold 2  Fold 3  Fold 4  Fold 5  Mean    Std     \n",
            "RMSE (testset)    0.8960  0.8975  0.9008  0.8961  0.8966  0.8974  0.0018  \n",
            "Fit time          0.17    0.16    0.16    0.16    0.16    0.16    0.00    \n",
            "Test time         1.76    1.58    1.41    1.38    1.36    1.50    0.15    \n",
            "0.897396281202924\n"
          ]
        }
      ]
    },
    {
      "cell_type": "code",
      "source": [
        "param_grid = {'k': list(range(2, 7)), 'sim_options':{'user_based': [False]}}\n",
        "grid_search = GridSearchCV(KNNWithMeans, param_grid, measures=['rmse'], cv=5)\n",
        "grid_search.fit(data)\n"
      ],
      "metadata": {
        "colab": {
          "base_uri": "https://localhost:8080/"
        },
        "id": "Wno-jB8WGiI0",
        "outputId": "28f51465-c4aa-4c9b-f181-5f6d987d5c43"
      },
      "execution_count": 127,
      "outputs": [
        {
          "output_type": "stream",
          "name": "stdout",
          "text": [
            "Computing the msd similarity matrix...\n",
            "Done computing similarity matrix.\n",
            "Computing the msd similarity matrix...\n",
            "Done computing similarity matrix.\n",
            "Computing the msd similarity matrix...\n",
            "Done computing similarity matrix.\n",
            "Computing the msd similarity matrix...\n",
            "Done computing similarity matrix.\n",
            "Computing the msd similarity matrix...\n",
            "Done computing similarity matrix.\n",
            "Computing the msd similarity matrix...\n",
            "Done computing similarity matrix.\n",
            "Computing the msd similarity matrix...\n",
            "Done computing similarity matrix.\n",
            "Computing the msd similarity matrix...\n",
            "Done computing similarity matrix.\n",
            "Computing the msd similarity matrix...\n",
            "Done computing similarity matrix.\n",
            "Computing the msd similarity matrix...\n",
            "Done computing similarity matrix.\n",
            "Computing the msd similarity matrix...\n",
            "Done computing similarity matrix.\n",
            "Computing the msd similarity matrix...\n",
            "Done computing similarity matrix.\n",
            "Computing the msd similarity matrix...\n",
            "Done computing similarity matrix.\n",
            "Computing the msd similarity matrix...\n",
            "Done computing similarity matrix.\n",
            "Computing the msd similarity matrix...\n",
            "Done computing similarity matrix.\n",
            "Computing the msd similarity matrix...\n",
            "Done computing similarity matrix.\n",
            "Computing the msd similarity matrix...\n",
            "Done computing similarity matrix.\n",
            "Computing the msd similarity matrix...\n",
            "Done computing similarity matrix.\n",
            "Computing the msd similarity matrix...\n",
            "Done computing similarity matrix.\n",
            "Computing the msd similarity matrix...\n",
            "Done computing similarity matrix.\n",
            "Computing the msd similarity matrix...\n",
            "Done computing similarity matrix.\n",
            "Computing the msd similarity matrix...\n",
            "Done computing similarity matrix.\n",
            "Computing the msd similarity matrix...\n",
            "Done computing similarity matrix.\n",
            "Computing the msd similarity matrix...\n",
            "Done computing similarity matrix.\n",
            "Computing the msd similarity matrix...\n",
            "Done computing similarity matrix.\n"
          ]
        }
      ]
    },
    {
      "cell_type": "code",
      "source": [
        "grid_search.best_params['rmse']['k']"
      ],
      "metadata": {
        "colab": {
          "base_uri": "https://localhost:8080/"
        },
        "id": "w2aHDCaiJ-1o",
        "outputId": "34f71777-69ff-41d8-f6d0-56489a96fc86"
      },
      "execution_count": 137,
      "outputs": [
        {
          "output_type": "execute_result",
          "data": {
            "text/plain": [
              "6"
            ]
          },
          "metadata": {},
          "execution_count": 137
        }
      ]
    },
    {
      "cell_type": "code",
      "source": [
        "dataset = data.build_full_trainset()\n",
        "algo = grid_search.best_estimator['rmse']\n",
        "algo.fit(dataset)\n",
        "inner_id = algo.trainset.to_inner_iid(2)\n",
        "top_movies = algo.get_neighbors(inner_id,k=5)\n",
        "neighbors = (\n",
        "    algo.trainset.to_raw_iid(inner_id) for inner_id in top_movies\n",
        ")\n",
        "neighbors = (dict(zip(movies['movieId'], movies['title']))[rid] for rid in neighbors)\n",
        "\n",
        "print()\n",
        "print(\"The top 5 recommended movies for Jumanji are:\")\n",
        "for movie in neighbors:\n",
        "    print(movie)"
      ],
      "metadata": {
        "colab": {
          "base_uri": "https://localhost:8080/"
        },
        "id": "ymqCv2Bv5Qyl",
        "outputId": "cc974f93-8e1b-465f-987e-4e7f79054f2e"
      },
      "execution_count": 141,
      "outputs": [
        {
          "output_type": "stream",
          "name": "stdout",
          "text": [
            "Computing the msd similarity matrix...\n",
            "Done computing similarity matrix.\n",
            "\n",
            "The top 5 recommended movies for Jumanji are:\n",
            "Return to Oz (1985)\n",
            "20 Dates (1998)\n",
            "Shaft (1971)\n",
            "Piranha (1978)\n",
            "Hangar 18 (1980)\n"
          ]
        }
      ]
    },
    {
      "cell_type": "code",
      "source": [
        "trainset = data.build_full_trainset()\n",
        "\n",
        "algo = grid_search.best_estimator['rmse']\n",
        "algo.fit(trainset)\n",
        "inner_id = algo.trainset.to_inner_iid(193585)\n",
        "top_movies = algo.get_neighbors(inner_id,k=5)\n",
        "neighbors = (\n",
        "    algo.trainset.to_raw_iid(inner_id) for inner_id in top_movies\n",
        ")\n",
        "neighbors = (dict(zip(movies['movieId'], movies['title']))[rid] for rid in neighbors)\n",
        "\n",
        "print()\n",
        "print(\"The top 5 recommended movies for Flint are:\")\n",
        "for movie in neighbors:\n",
        "    print(movie)"
      ],
      "metadata": {
        "colab": {
          "base_uri": "https://localhost:8080/"
        },
        "id": "NwsRTe_y8c_G",
        "outputId": "e5aef97e-66ec-476a-a932-4ac789c8b4a1"
      },
      "execution_count": 142,
      "outputs": [
        {
          "output_type": "stream",
          "name": "stdout",
          "text": [
            "Computing the msd similarity matrix...\n",
            "Done computing similarity matrix.\n",
            "\n",
            "The top 5 recommended movies for Flint are:\n",
            "X-Men (2000)\n",
            "Harry Potter and the Sorcerer's Stone (a.k.a. Harry Potter and the Philosopher's Stone) (2001)\n",
            "Avengers: Age of Ultron (2015)\n",
            "Kingsman: The Golden Circle (2017)\n",
            "Insomnia (2002)\n"
          ]
        }
      ]
    },
    {
      "cell_type": "code",
      "source": [
        "algo = SVD()\n",
        "algo.fit(trainset)\n",
        "\n",
        "inner_item_id = trainset.to_inner_iid(2)\n",
        "\n",
        "movie_ratings = []\n",
        "for uid in trainset.all_users():\n",
        "    prediction = algo.predict(uid, inner_item_id)\n",
        "    movie_ratings.append((uid, prediction.est))\n",
        "\n",
        "sorted_ratings = sorted(movie_ratings, key=lambda x: x[1], reverse=True)\n",
        "\n",
        "k = 5\n",
        "recommended_movie_ids = [algo.trainset.to_raw_iid(inner_id) for inner_id, _ in sorted_ratings[:k]]\n",
        "recommended_movies = [dict(zip(movies['movieId'], movies['title']))[movie_id] for movie_id in recommended_movie_ids]\n",
        "\n",
        "print(\"The top {} recommended movies similar to Jumanji are:\".format(k))\n",
        "for movie in recommended_movies:\n",
        "    print(movie)"
      ],
      "metadata": {
        "colab": {
          "base_uri": "https://localhost:8080/"
        },
        "id": "XE4ZIJAgIlHO",
        "outputId": "e28bb5a7-286f-4629-ab6f-8c773649bfcd"
      },
      "execution_count": 146,
      "outputs": [
        {
          "output_type": "stream",
          "name": "stdout",
          "text": [
            "The top 5 recommended movies similar to Jumanji are:\n",
            "Dumbo (1941)\n",
            "She's the One (1996)\n",
            "Swan Princess, The (1994)\n",
            "Closet, The (Placard, Le) (2001)\n",
            "Clerks (1994)\n"
          ]
        }
      ]
    },
    {
      "cell_type": "code",
      "source": [
        "algo = SVD()\n",
        "algo.fit(trainset)\n",
        "\n",
        "inner_item_id = trainset.to_inner_iid(2)\n",
        "\n",
        "movie_ratings = []\n",
        "for uid in trainset.all_users():\n",
        "    prediction = algo.predict(uid, inner_item_id)\n",
        "    movie_ratings.append((uid, prediction.est))\n",
        "\n",
        "sorted_ratings = sorted(movie_ratings, key=lambda x: x[1], reverse=True)\n",
        "\n",
        "k = 5\n",
        "recommended_movie_ids = [algo.trainset.to_raw_iid(inner_id) for inner_id, _ in sorted_ratings[:k]]\n",
        "recommended_movies = [dict(zip(movies['movieId'], movies['title']))[movie_id] for movie_id in recommended_movie_ids]\n",
        "\n",
        "print(\"The top {} recommended movies similar to Flint are:\".format(k))\n",
        "for movie in recommended_movies:\n",
        "    print(movie)"
      ],
      "metadata": {
        "colab": {
          "base_uri": "https://localhost:8080/"
        },
        "id": "5fkp-kgYwCD1",
        "outputId": "6d0e9648-19d0-40e7-9d6e-0c3bdfb2e26d"
      },
      "execution_count": 145,
      "outputs": [
        {
          "output_type": "stream",
          "name": "stdout",
          "text": [
            "The top 5 recommended movies similar to Flint are:\n",
            "Dumbo (1941)\n",
            "She's the One (1996)\n",
            "Closet, The (Placard, Le) (2001)\n",
            "Broken Arrow (1996)\n",
            "Star Wars: Episode I - The Phantom Menace (1999)\n"
          ]
        }
      ]
    },
    {
      "cell_type": "markdown",
      "source": [
        "Zadanie 2.2:\n",
        "\n",
        "kNN with means uwzględnia średnie wartości ocen użytkowników, kNNBasic używa bezpośrednio ocen."
      ],
      "metadata": {
        "id": "RvZnOMptqiVg"
      }
    },
    {
      "cell_type": "code",
      "source": [
        "cross_validate(algo, data,measures=['rmse'], cv=5, verbose=True)"
      ],
      "metadata": {
        "colab": {
          "base_uri": "https://localhost:8080/"
        },
        "id": "0YM3WriNt3tP",
        "outputId": "dafc6b7f-d231-49e4-928f-17f3f7824d55"
      },
      "execution_count": 147,
      "outputs": [
        {
          "output_type": "stream",
          "name": "stdout",
          "text": [
            "Evaluating RMSE of algorithm SVD on 5 split(s).\n",
            "\n",
            "                  Fold 1  Fold 2  Fold 3  Fold 4  Fold 5  Mean    Std     \n",
            "RMSE (testset)    0.8674  0.8771  0.8839  0.8782  0.8619  0.8737  0.0079  \n",
            "Fit time          1.33    1.36    1.37    1.66    1.52    1.45    0.12    \n",
            "Test time         0.11    0.36    0.18    0.18    0.41    0.25    0.12    \n"
          ]
        },
        {
          "output_type": "execute_result",
          "data": {
            "text/plain": [
              "{'test_rmse': array([0.86735225, 0.87713735, 0.88389994, 0.87815187, 0.86192496]),\n",
              " 'fit_time': (1.3338661193847656,\n",
              "  1.360719919204712,\n",
              "  1.373276710510254,\n",
              "  1.6567647457122803,\n",
              "  1.5164422988891602),\n",
              " 'test_time': (0.11189651489257812,\n",
              "  0.36484456062316895,\n",
              "  0.17626595497131348,\n",
              "  0.18465471267700195,\n",
              "  0.40935802459716797)}"
            ]
          },
          "metadata": {},
          "execution_count": 147
        }
      ]
    }
  ]
}